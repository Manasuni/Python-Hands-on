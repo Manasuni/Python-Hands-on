{
 "cells": [
  {
   "cell_type": "code",
   "execution_count": 2,
   "id": "d8f8e459",
   "metadata": {},
   "outputs": [
    {
     "name": "stdout",
     "output_type": "stream",
     "text": [
      "[2, 4, 6, 2, 8, 22]\n"
     ]
    }
   ],
   "source": [
    "#List Comprehension\n",
    "List = [1,2,3,4,6,7,2,9,8,22]\n",
    "result = [i for i in List if i%2==0]\n",
    "print(result)"
   ]
  },
  {
   "cell_type": "code",
   "execution_count": 3,
   "id": "aed0b90e",
   "metadata": {},
   "outputs": [
    {
     "name": "stdout",
     "output_type": "stream",
     "text": [
      "[1, 4, 9, 16, 25, 36, 49, 64, 81]\n"
     ]
    }
   ],
   "source": [
    "#List comprehension\n",
    "List = [i**2 for i in range(1,10)]\n",
    "print(List)"
   ]
  },
  {
   "cell_type": "code",
   "execution_count": 4,
   "id": "159350b8",
   "metadata": {},
   "outputs": [
    {
     "name": "stdout",
     "output_type": "stream",
     "text": [
      "{1: 1, 3: 27, 5: 125, 7: 343, 9: 729}\n"
     ]
    }
   ],
   "source": [
    "#Dictionary comprehension\n",
    "List = [1,2,3,4,5,6,7,8,9]\n",
    "result = {i:i**3 for i in List if i%2!=0}\n",
    "print(result)"
   ]
  },
  {
   "cell_type": "code",
   "execution_count": 9,
   "id": "253a01e4",
   "metadata": {},
   "outputs": [
    {
     "name": "stdout",
     "output_type": "stream",
     "text": [
      "{'Manasha': 20, 'Monith': 5, 'Sunitha': 40, 'Vijay': 1, 'Sai': 0}\n"
     ]
    }
   ],
   "source": [
    "#Dictionary comprehension\n",
    "Name = ['Manasha','Monith','Sunitha','Vijay','Sai']\n",
    "Marks = [20,5,40,1,0]\n",
    "result = {key:value for (key,value) in zip(Name,Marks)}\n",
    "print(result)"
   ]
  },
  {
   "cell_type": "code",
   "execution_count": 8,
   "id": "49e63120",
   "metadata": {},
   "outputs": [
    {
     "name": "stdout",
     "output_type": "stream",
     "text": [
      "{1, 3, 5, 7, 9}\n"
     ]
    }
   ],
   "source": [
    "#set comprehensions\n",
    "List = [1,2,3,4,5,6,6,7,2,3,4,5,7,8,9]\n",
    "result = {i for i in List if i%2!=0}\n",
    "print(result)"
   ]
  },
  {
   "cell_type": "code",
   "execution_count": 14,
   "id": "d71f6d03",
   "metadata": {},
   "outputs": [
    {
     "name": "stdout",
     "output_type": "stream",
     "text": [
      "<generator object <genexpr> at 0x0000018E58E5A960>\n"
     ]
    }
   ],
   "source": [
    "#Generator comprehension\n",
    "List = [1,2,3,4,5,6,6,7,2,3,4,5,7,8,9]\n",
    "result = (i for i in List if i%2==0)\n",
    "print(result)"
   ]
  },
  {
   "cell_type": "code",
   "execution_count": 15,
   "id": "083e4f22",
   "metadata": {},
   "outputs": [
    {
     "name": "stdout",
     "output_type": "stream",
     "text": [
      "2 4 6 6 2 4 8 "
     ]
    }
   ],
   "source": [
    "for i in result:\n",
    "    print(i,end=\" \")"
   ]
  },
  {
   "cell_type": "code",
   "execution_count": null,
   "id": "afb2926d",
   "metadata": {},
   "outputs": [],
   "source": []
  }
 ],
 "metadata": {
  "kernelspec": {
   "display_name": "Python 3 (ipykernel)",
   "language": "python",
   "name": "python3"
  },
  "language_info": {
   "codemirror_mode": {
    "name": "ipython",
    "version": 3
   },
   "file_extension": ".py",
   "mimetype": "text/x-python",
   "name": "python",
   "nbconvert_exporter": "python",
   "pygments_lexer": "ipython3",
   "version": "3.10.4"
  }
 },
 "nbformat": 4,
 "nbformat_minor": 5
}
