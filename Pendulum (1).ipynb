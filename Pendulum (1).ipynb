{
 "cells": [
  {
   "cell_type": "code",
   "execution_count": 1,
   "id": "b7dd09bd",
   "metadata": {},
   "outputs": [
    {
     "name": "stdout",
     "output_type": "stream",
     "text": [
      "2020-11-27T00:00:00+00:00\n",
      "2020-11-27T00:00:00+05:30\n",
      "Asia/Calcutta\n"
     ]
    }
   ],
   "source": [
    "import pendulum\n",
    "dt = pendulum.datetime(2020, 11, 27)\n",
    "print(dt)\n",
    "\n",
    "local = pendulum.local(2020, 11, 27)\n",
    "print(local)\n",
    "print(local.timezone.name)"
   ]
  },
  {
   "cell_type": "code",
   "execution_count": 2,
   "id": "abe622e0",
   "metadata": {},
   "outputs": [
    {
     "name": "stdout",
     "output_type": "stream",
     "text": [
      "2022-11-27T00:00:00+00:00\n",
      "2022-11-27T00:00:00+05:30\n",
      "Asia/Calcutta\n"
     ]
    }
   ],
   "source": [
    "import pendulum\n",
    "dt = pendulum.datetime(2022, 11, 27)\n",
    "print(dt)\n",
    "\n",
    "local = pendulum.local(2022, 11, 27)\n",
    "print(local)\n",
    "print(local.timezone.name)"
   ]
  },
  {
   "cell_type": "code",
   "execution_count": null,
   "id": "1ba45e17",
   "metadata": {},
   "outputs": [],
   "source": []
  }
 ],
 "metadata": {
  "kernelspec": {
   "display_name": "Python 3 (ipykernel)",
   "language": "python",
   "name": "python3"
  },
  "language_info": {
   "codemirror_mode": {
    "name": "ipython",
    "version": 3
   },
   "file_extension": ".py",
   "mimetype": "text/x-python",
   "name": "python",
   "nbconvert_exporter": "python",
   "pygments_lexer": "ipython3",
   "version": "3.10.4"
  }
 },
 "nbformat": 4,
 "nbformat_minor": 5
}
