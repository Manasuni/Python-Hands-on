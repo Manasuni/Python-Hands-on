{
 "cells": [
  {
   "cell_type": "code",
   "execution_count": null,
   "id": "71235650",
   "metadata": {},
   "outputs": [],
   "source": [
    "#Concatenation\n",
    "import numpy as np\n",
    "a, b, c = map(int,input().split())\n",
    "arrA = np.array([input().split() for _ in range(a)],int)\n",
    "arrB = np.array([input().split() for _ in range(b)],int)\n",
    "print(np.concatenate((arrA, arrB), axis = 0))\n"
   ]
  },
  {
   "cell_type": "code",
   "execution_count": null,
   "id": "49179605",
   "metadata": {},
   "outputs": [],
   "source": [
    "#transpose and flatten\n",
    "import numpy\n",
    "N,M = map(int, input().split())\n",
    "arr = numpy.array([input().split() for _ in range(N)],int)\n",
    "print(arr.transpose())\n",
    "print(arr.flatten())"
   ]
  },
  {
   "cell_type": "code",
   "execution_count": 3,
   "id": "50056505",
   "metadata": {},
   "outputs": [
    {
     "name": "stdout",
     "output_type": "stream",
     "text": [
      "1 2 3 4 5 6 7 8 9\n",
      "[[1 2 3]\n",
      " [4 5 6]\n",
      " [7 8 9]]\n"
     ]
    }
   ],
   "source": [
    "#shape and reshape\n",
    "import numpy\n",
    "arr = numpy.array([input().split()],int)\n",
    "arr.shape = (3,3)\n",
    "print(arr)"
   ]
  },
  {
   "cell_type": "code",
   "execution_count": null,
   "id": "5642e52c",
   "metadata": {},
   "outputs": [],
   "source": [
    "#Arrays\n",
    "import numpy\n",
    "def arrays(arr):\n",
    "    return numpy.array(arr[::-1],float)\n",
    "arr = input().strip().split(' ')\n",
    "result = arrays(arr)\n",
    "print(result)"
   ]
  },
  {
   "cell_type": "code",
   "execution_count": null,
   "id": "d4b5fa1c",
   "metadata": {},
   "outputs": [],
   "source": [
    "#map and lambda function\n",
    "cube = lambda x: x**3 # complete the lambda function \n",
    "\n",
    "def fibonacci(n):\n",
    "    lis = [0,1]\n",
    "    for i in range(2,n):\n",
    "        lis.append(lis[i-2] + lis[i-1])\n",
    "    return(lis[0:n])\n",
    "    # return a list of fibonacci numbers\n",
    "      \n",
    "\n",
    "\n",
    "if __name__ == '__main__':\n",
    "    n = int(input())\n",
    "    print(list(map(cube, fibonacci(n))))"
   ]
  },
  {
   "cell_type": "code",
   "execution_count": null,
   "id": "fd9db9b3",
   "metadata": {},
   "outputs": [],
   "source": []
  }
 ],
 "metadata": {
  "kernelspec": {
   "display_name": "Python 3 (ipykernel)",
   "language": "python",
   "name": "python3"
  },
  "language_info": {
   "codemirror_mode": {
    "name": "ipython",
    "version": 3
   },
   "file_extension": ".py",
   "mimetype": "text/x-python",
   "name": "python",
   "nbconvert_exporter": "python",
   "pygments_lexer": "ipython3",
   "version": "3.10.4"
  }
 },
 "nbformat": 4,
 "nbformat_minor": 5
}
