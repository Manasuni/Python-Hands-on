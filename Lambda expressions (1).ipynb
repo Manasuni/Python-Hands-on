{
 "cells": [
  {
   "cell_type": "code",
   "execution_count": 1,
   "id": "dd56d2b3",
   "metadata": {},
   "outputs": [
    {
     "name": "stdout",
     "output_type": "stream",
     "text": [
      "15\n"
     ]
    }
   ],
   "source": [
    "x = lambda a : a+10\n",
    "print(x(5))"
   ]
  },
  {
   "cell_type": "code",
   "execution_count": 3,
   "id": "9aeb7a7d",
   "metadata": {},
   "outputs": [
    {
     "name": "stdout",
     "output_type": "stream",
     "text": [
      "30\n"
     ]
    }
   ],
   "source": [
    "x = lambda a,b : a*b\n",
    "print(x(5,6))"
   ]
  },
  {
   "cell_type": "code",
   "execution_count": 4,
   "id": "56292ef1",
   "metadata": {},
   "outputs": [
    {
     "name": "stdout",
     "output_type": "stream",
     "text": [
      "16\n"
     ]
    }
   ],
   "source": [
    "x = lambda a,b,c : a+b+c\n",
    "print(x(5,9,2))"
   ]
  },
  {
   "cell_type": "code",
   "execution_count": 5,
   "id": "601969c7",
   "metadata": {},
   "outputs": [],
   "source": [
    "def myfunc(n):\n",
    "    return lambda a : a*n"
   ]
  },
  {
   "cell_type": "code",
   "execution_count": 6,
   "id": "6436019e",
   "metadata": {},
   "outputs": [
    {
     "name": "stdout",
     "output_type": "stream",
     "text": [
      "22\n"
     ]
    }
   ],
   "source": [
    "result = myfunc(2)\n",
    "print(result(11))"
   ]
  },
  {
   "cell_type": "code",
   "execution_count": null,
   "id": "bfbe5ead",
   "metadata": {},
   "outputs": [],
   "source": []
  }
 ],
 "metadata": {
  "kernelspec": {
   "display_name": "Python 3 (ipykernel)",
   "language": "python",
   "name": "python3"
  },
  "language_info": {
   "codemirror_mode": {
    "name": "ipython",
    "version": 3
   },
   "file_extension": ".py",
   "mimetype": "text/x-python",
   "name": "python",
   "nbconvert_exporter": "python",
   "pygments_lexer": "ipython3",
   "version": "3.10.4"
  }
 },
 "nbformat": 4,
 "nbformat_minor": 5
}
