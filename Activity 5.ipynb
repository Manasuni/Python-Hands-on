{
 "cells": [
  {
   "cell_type": "code",
   "execution_count": 4,
   "id": "df5b3892",
   "metadata": {},
   "outputs": [
    {
     "name": "stdout",
     "output_type": "stream",
     "text": [
      "[4, 2, 3, 45, 1]\n"
     ]
    }
   ],
   "source": [
    "#1.Python program to interchange first and last elements in a list\n",
    "List = [1,2,3,45,4]\n",
    "List[0],List[-1] = List[-1],List[0]\n",
    "print(List)"
   ]
  },
  {
   "cell_type": "code",
   "execution_count": 2,
   "id": "7061ae61",
   "metadata": {},
   "outputs": [
    {
     "name": "stdout",
     "output_type": "stream",
     "text": [
      "[4, 2, 3, 45, 1]\n"
     ]
    }
   ],
   "source": [
    "#1.Python program to interchange first and last elements in a list\n",
    "def swapList(List):\n",
    "    List = [1,2,3,45,4]\n",
    "    List[0],List[-1] = List[-1],List[0]\n",
    "    return(List)\n",
    "List = [1,2,3,45,4]\n",
    "print(swapList(List))"
   ]
  },
  {
   "cell_type": "code",
   "execution_count": 6,
   "id": "a51c2570",
   "metadata": {},
   "outputs": [
    {
     "name": "stdout",
     "output_type": "stream",
     "text": [
      "[90, 45, 30, 40, 55]\n"
     ]
    }
   ],
   "source": [
    "#2.Python program to swap two elements in a list\n",
    "def swapPositions(List,pos1,pos2):\n",
    "    List[pos1],List[pos2]= List[pos2],List[pos1]\n",
    "    return List\n",
    "List = [90,40,30,45,55]\n",
    "pos1,pos2=2,4\n",
    "print(swapPositions(List,pos1-1,pos2-1))"
   ]
  },
  {
   "cell_type": "code",
   "execution_count": 8,
   "id": "5e0ff719",
   "metadata": {},
   "outputs": [
    {
     "name": "stdout",
     "output_type": "stream",
     "text": [
      "[1, 2, 4, 3, 5]\n"
     ]
    }
   ],
   "source": [
    "#2.Python program to swap two elements in a list\n",
    "def swapPositions(List,pos1,pos2):\n",
    "    List[pos1],List[pos2]= List[pos2],List[pos1]\n",
    "    return List\n",
    "List = [1,2,3,4,5]\n",
    "pos1,pos2=2,3\n",
    "print(swapPositions(List,pos1,pos2))"
   ]
  },
  {
   "cell_type": "code",
   "execution_count": 13,
   "id": "ac8043a4",
   "metadata": {},
   "outputs": [
    {
     "name": "stdout",
     "output_type": "stream",
     "text": [
      "The length of the List is: 5\n"
     ]
    }
   ],
   "source": [
    "#3.Python | Ways to find length of list\n",
    "n=len([1,2,3,\"Hello\",\"World\"])\n",
    "\n",
    "print(\"The length of the List is:\",(n))"
   ]
  },
  {
   "cell_type": "code",
   "execution_count": 19,
   "id": "abd0d30b",
   "metadata": {},
   "outputs": [
    {
     "name": "stdout",
     "output_type": "stream",
     "text": [
      "1\n",
      "2\n",
      "3\n",
      "4\n",
      "5\n"
     ]
    }
   ],
   "source": [
    "#3.Python | Ways to find length of list\n",
    "n = [1,2,3,4,5]\n",
    "counter = 0\n",
    "for i in n:\n",
    "    counter = counter+1\n",
    "    print(str(counter))"
   ]
  },
  {
   "cell_type": "code",
   "execution_count": 32,
   "id": "594946c6",
   "metadata": {},
   "outputs": [
    {
     "name": "stdout",
     "output_type": "stream",
     "text": [
      "Element exists\n"
     ]
    }
   ],
   "source": [
    "#4.Python | Ways to check if element exists in list\n",
    "List = [1,2,34,55,44]\n",
    "for i in List:\n",
    "    if(i==2):\n",
    "        print(\"Element exists\")"
   ]
  },
  {
   "cell_type": "code",
   "execution_count": 40,
   "id": "de8adb7d",
   "metadata": {},
   "outputs": [
    {
     "name": "stdout",
     "output_type": "stream",
     "text": [
      "Element exists\n"
     ]
    }
   ],
   "source": [
    "#4.Python | Ways to check if element exists in list\n",
    "List = [1,2,4,5,6]\n",
    "if (5 in List):\n",
    "    print(\"Element exists\")\n"
   ]
  },
  {
   "cell_type": "code",
   "execution_count": 1,
   "id": "c8fbb3ee",
   "metadata": {},
   "outputs": [
    {
     "name": "stdout",
     "output_type": "stream",
     "text": [
      "[]\n"
     ]
    }
   ],
   "source": [
    "#5.Different ways to clear a list in Python\n",
    "List = [1,2,3,4,5,6]\n",
    "List.clear()\n",
    "print(List)\n"
   ]
  },
  {
   "cell_type": "code",
   "execution_count": 2,
   "id": "3c09c81d",
   "metadata": {},
   "outputs": [
    {
     "name": "stdout",
     "output_type": "stream",
     "text": [
      "[]\n"
     ]
    }
   ],
   "source": [
    "#5.Different ways to clear a list in Python\n",
    "List = [1,2,3,4,5,6]\n",
    "List*=0\n",
    "print(List)\n"
   ]
  },
  {
   "cell_type": "code",
   "execution_count": 4,
   "id": "4b68ebeb",
   "metadata": {},
   "outputs": [
    {
     "name": "stdout",
     "output_type": "stream",
     "text": [
      "[]\n"
     ]
    }
   ],
   "source": [
    "#5.Different ways to clear a list in Python\n",
    "List = [1,2,3,4,5,6]\n",
    "del List[:]\n",
    "print(List)"
   ]
  },
  {
   "cell_type": "code",
   "execution_count": null,
   "id": "cd273997",
   "metadata": {},
   "outputs": [],
   "source": []
  }
 ],
 "metadata": {
  "kernelspec": {
   "display_name": "Python 3 (ipykernel)",
   "language": "python",
   "name": "python3"
  },
  "language_info": {
   "codemirror_mode": {
    "name": "ipython",
    "version": 3
   },
   "file_extension": ".py",
   "mimetype": "text/x-python",
   "name": "python",
   "nbconvert_exporter": "python",
   "pygments_lexer": "ipython3",
   "version": "3.10.4"
  }
 },
 "nbformat": 4,
 "nbformat_minor": 5
}
