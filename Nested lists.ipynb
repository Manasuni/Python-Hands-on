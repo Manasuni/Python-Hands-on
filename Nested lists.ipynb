{
 "cells": [
  {
   "cell_type": "code",
   "execution_count": 5,
   "id": "5949cbf9",
   "metadata": {},
   "outputs": [
    {
     "name": "stdout",
     "output_type": "stream",
     "text": [
      "3\n",
      "Manasa\n",
      "99.1\n",
      "sunitha\n",
      "98.1\n",
      "Monith\n",
      "99.8\n",
      "Manasa\n"
     ]
    }
   ],
   "source": [
    "#nested lists\n",
    "Result =[]\n",
    "scorelist = []\n",
    "for _ in range(int(input())):\n",
    "        name = input()\n",
    "        score = float(input())\n",
    "        Result+=[[name,score]]\n",
    "        scorelist+=[score]\n",
    "b=sorted(list(set(scorelist)))[1] \n",
    "\n",
    "for name,scorelist in sorted(Result):\n",
    "    if scorelist==b:\n",
    "        print(name)"
   ]
  },
  {
   "cell_type": "code",
   "execution_count": 6,
   "id": "6b6a9e72",
   "metadata": {},
   "outputs": [
    {
     "name": "stdout",
     "output_type": "stream",
     "text": [
      "3\n",
      "Weird\n"
     ]
    }
   ],
   "source": [
    "#python if else:\n",
    "n = int(input())\n",
    "if n%2==0:\n",
    "    if n in range(2,5):\n",
    "        print(\"Not Weird\")\n",
    "    if n in range(6,21):\n",
    "        print(\"Weird\")\n",
    "    if n>20:\n",
    "        print(\"Not Weird\")\n",
    "else:\n",
    "    print(\"Weird\")"
   ]
  },
  {
   "cell_type": "code",
   "execution_count": 8,
   "id": "05fd8e10",
   "metadata": {},
   "outputs": [
    {
     "name": "stdout",
     "output_type": "stream",
     "text": [
      "4\n",
      "0\n",
      "1\n",
      "4\n",
      "9\n"
     ]
    }
   ],
   "source": [
    "#Loops:\n",
    "n = int(input())\n",
    "for i in range(0,21):\n",
    "    if i<n:\n",
    "        print(i**2)\n",
    "        i+=1"
   ]
  },
  {
   "cell_type": "code",
   "execution_count": 10,
   "id": "25f3f7b6",
   "metadata": {},
   "outputs": [
    {
     "name": "stdout",
     "output_type": "stream",
     "text": [
      "2000\n"
     ]
    }
   ],
   "source": [
    "#function\n",
    "def is_leap(year):\n",
    "    leap = False\n",
    "    \n",
    "    # Write your logic here\n",
    "    if (year%100==0) and (year%400==0):\n",
    "        return True\n",
    "    elif (year%100!=0) and (year%4==0):\n",
    "        return True\n",
    "    return leap\n",
    "\n",
    "year = int(input())"
   ]
  },
  {
   "cell_type": "code",
   "execution_count": 13,
   "id": "957278bb",
   "metadata": {},
   "outputs": [
    {
     "data": {
      "text/plain": [
       "True"
      ]
     },
     "execution_count": 13,
     "metadata": {},
     "output_type": "execute_result"
    }
   ],
   "source": [
    "is_leap(2000)"
   ]
  },
  {
   "cell_type": "code",
   "execution_count": 10,
   "id": "682fa212",
   "metadata": {},
   "outputs": [
    {
     "name": "stdout",
     "output_type": "stream",
     "text": [
      "1\n",
      "1\n",
      "1\n",
      "3\n",
      "[[0, 0, 0], [0, 0, 1], [0, 1, 0], [0, 1, 1], [1, 0, 0], [1, 0, 1], [1, 1, 0]]\n"
     ]
    }
   ],
   "source": [
    "#List comprehension\n",
    "x=int(input())\n",
    "y=int(input())\n",
    "z=int(input())\n",
    "n=int(input())\n",
    "print([[a,b,c] for a in range(x+1) for b in range(y+1) for c in range(z+1) if((a+b+c)!=n)])\n"
   ]
  },
  {
   "cell_type": "code",
   "execution_count": null,
   "id": "416be78c",
   "metadata": {},
   "outputs": [],
   "source": []
  }
 ],
 "metadata": {
  "kernelspec": {
   "display_name": "Python 3 (ipykernel)",
   "language": "python",
   "name": "python3"
  },
  "language_info": {
   "codemirror_mode": {
    "name": "ipython",
    "version": 3
   },
   "file_extension": ".py",
   "mimetype": "text/x-python",
   "name": "python",
   "nbconvert_exporter": "python",
   "pygments_lexer": "ipython3",
   "version": "3.10.4"
  }
 },
 "nbformat": 4,
 "nbformat_minor": 5
}
